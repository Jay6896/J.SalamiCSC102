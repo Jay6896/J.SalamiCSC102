{
 "cells": [
  {
   "cell_type": "code",
   "execution_count": null,
   "id": "4d589c43",
   "metadata": {},
   "outputs": [],
   "source": [
    "admitted = []\n",
    "not_admitted = []\n",
    "\n",
    "def check_admission(name, department, jamb_score, credits, passed_interview):\n",
    "    if department.lower() == \"computer science\":\n",
    "        if jamb_score >= 250 and credits >= 5 and passed_interview == \"y\":\n",
    "            admitted.append(name)\n",
    "            print(f\"{name} has been admitted into Computer Science.\")\n",
    "        else:\n",
    "            not_admitted.append(name)\n",
    "            print(f\"{name} did not meet the requirements for Computer Science.\")\n",
    "\n",
    "    elif department.lower() == \"mass communication\":\n",
    "        if jamb_score >= 230 and credits >= 5 and passed_interview == \"y\":\n",
    "            admitted.append(name)\n",
    "            print(f\"{name} has been admitted into Mass Communication.\")\n",
    "        else:\n",
    "            not_admitted.append(name)\n",
    "            print(f\"{name} did not meet the requirements for Mass Communication.\")\n",
    "\n",
    "    else:\n",
    "        print(\"Invalid department.\")\n",
    "\n",
    "name = input(\"put your name\")\n",
    "department = input(\"put your name\")\n",
    "credits = int(input(\"put your name\"))\n",
    "passed_interview = input(\"put your name\")"
   ]
  }
 ],
 "metadata": {
  "kernelspec": {
   "display_name": "Python 3",
   "language": "python",
   "name": "python3"
  },
  "language_info": {
   "codemirror_mode": {
    "name": "ipython",
    "version": 3
   },
   "file_extension": ".py",
   "mimetype": "text/x-python",
   "name": "python",
   "nbconvert_exporter": "python",
   "pygments_lexer": "ipython3",
   "version": "3.13.2"
  }
 },
 "nbformat": 4,
 "nbformat_minor": 5
}
